{
 "cells": [
  {
   "cell_type": "markdown",
   "id": "8ba4c403",
   "metadata": {},
   "source": [
    "### PLS algorithm for regression"
   ]
  },
  {
   "cell_type": "code",
   "execution_count": 28,
   "id": "8231f942",
   "metadata": {},
   "outputs": [],
   "source": [
    "# Importation des librairies\n",
    "import numpy as np\n",
    "import matplotlib.pyplot as plt\n",
    "from sklearn.model_selection import cross_val_score"
   ]
  },
  {
   "cell_type": "code",
   "execution_count": 35,
   "id": "39bae24a",
   "metadata": {},
   "outputs": [],
   "source": [
    "# Simulation du jeux de données avec multicolinéarité \n",
    "np.random.seed(42)\n",
    "n_observations = 100\n",
    "X = np.zeros((n_observations, 10))\n",
    "x_1 = np.random.rand(n_observations)\n",
    "for i in range(10):\n",
    "    x = x_1*np.random.rand(n_observations) +x_1\n",
    "    X[:, i] = x\n",
    "\n",
    "# Simulation de la variable d'intérêt \n",
    "coefficients = np.array([2, -1, 0.5, 1.5, -0.8, 1, -0.2, 0.7, -1.3, 0.9])\n",
    "bruit = np.random.normal(0, 0.5, size=(n_observations,))\n",
    "y = X @ coefficients + bruit"
   ]
  },
  {
   "cell_type": "code",
   "execution_count": 36,
   "id": "ff953a47",
   "metadata": {},
   "outputs": [
    {
     "data": {
      "text/plain": [
       "array([[1.        , 0.85984859, 0.85396178, 0.8580686 , 0.88962604,\n",
       "        0.86956469, 0.86570719, 0.88145586, 0.89891457, 0.89554221],\n",
       "       [0.85984859, 1.        , 0.87922516, 0.88019925, 0.89632856,\n",
       "        0.91367994, 0.91826875, 0.88048968, 0.89862809, 0.884083  ],\n",
       "       [0.85396178, 0.87922516, 1.        , 0.89156342, 0.87038312,\n",
       "        0.87107491, 0.89493286, 0.86435235, 0.87112701, 0.86578077],\n",
       "       [0.8580686 , 0.88019925, 0.89156342, 1.        , 0.88678546,\n",
       "        0.91609583, 0.88714371, 0.86262562, 0.87512374, 0.89698458],\n",
       "       [0.88962604, 0.89632856, 0.87038312, 0.88678546, 1.        ,\n",
       "        0.90711364, 0.89874567, 0.88617112, 0.90942218, 0.89438311],\n",
       "       [0.86956469, 0.91367994, 0.87107491, 0.91609583, 0.90711364,\n",
       "        1.        , 0.91426486, 0.8782436 , 0.88961688, 0.92600758],\n",
       "       [0.86570719, 0.91826875, 0.89493286, 0.88714371, 0.89874567,\n",
       "        0.91426486, 1.        , 0.9010331 , 0.90062232, 0.88760175],\n",
       "       [0.88145586, 0.88048968, 0.86435235, 0.86262562, 0.88617112,\n",
       "        0.8782436 , 0.9010331 , 1.        , 0.91325546, 0.87172295],\n",
       "       [0.89891457, 0.89862809, 0.87112701, 0.87512374, 0.90942218,\n",
       "        0.88961688, 0.90062232, 0.91325546, 1.        , 0.89129427],\n",
       "       [0.89554221, 0.884083  , 0.86578077, 0.89698458, 0.89438311,\n",
       "        0.92600758, 0.88760175, 0.87172295, 0.89129427, 1.        ]])"
      ]
     },
     "execution_count": 36,
     "metadata": {},
     "output_type": "execute_result"
    }
   ],
   "source": [
    "np.corrcoef(X, rowvar=False)\n",
    "# On remarque la forte multicolinéarité entre nous variables indépendantes"
   ]
  },
  {
   "cell_type": "code",
   "execution_count": 37,
   "id": "370523aa",
   "metadata": {},
   "outputs": [],
   "source": [
    "# Standardisation des données\n",
    "X_mean = np.mean(X, axis=0)\n",
    "X_std = np.std(X, axis=0, ddof=1)\n",
    "X_scaled = (X - X_mean) / X_std\n",
    "\n",
    "y_mean = np.mean(y)\n",
    "y_std = np.std(y, axis=0, ddof=1)\n",
    "y_scaled = y - y_mean / y_std"
   ]
  },
  {
   "cell_type": "code",
   "execution_count": 38,
   "id": "b9564f78",
   "metadata": {},
   "outputs": [],
   "source": [
    "# Split en training et test set\n",
    "split = 80\n",
    "X_train, X_test = X_scaled[:split, :], X_scaled[split:, :]\n",
    "y_train, y_test = y_scaled[:split], y_scaled[split:]"
   ]
  },
  {
   "cell_type": "code",
   "execution_count": 39,
   "id": "12c6f7e8",
   "metadata": {},
   "outputs": [],
   "source": [
    "n_components = 5\n",
    "y_train_mean = np.mean(y_train)\n",
    "\n",
    "# Initialisation des matrices\n",
    "W = np.zeros((X_train.shape[1], n_components))\n",
    "Z = np.zeros((X_train.shape[0], n_components))\n",
    "P = np.zeros((X_train.shape[1], n_components))\n",
    "D = np.zeros((1, n_components))\n",
    "B = np.zeros((X_train.shape[1], n_components))"
   ]
  },
  {
   "cell_type": "code",
   "execution_count": 40,
   "id": "37ca9519",
   "metadata": {
    "scrolled": true
   },
   "outputs": [
    {
     "name": "stdout",
     "output_type": "stream",
     "text": [
      "Mean Squared Error (Component 1): 1.5595298389133752\n",
      "Mean Squared Error (Component 2): 1.0810821825971557\n",
      "Mean Squared Error (Component 3): 0.7270839818324687\n",
      "Mean Squared Error (Component 4): 0.48539317637862256\n",
      "Mean Squared Error (Component 5): 0.34687280754700095\n"
     ]
    }
   ],
   "source": [
    "#Boucle de l'algorithme\n",
    "\n",
    "for i in range(n_components):\n",
    "    # Calcul de w\n",
    "    w = X_train.T @ y_train\n",
    "    W[:, i] = w\n",
    "    \n",
    "    # Calcul de z\n",
    "    z = X_train @ w\n",
    "    Z[:, i] = z\n",
    "    \n",
    "    # Calcul de p\n",
    "    p = X_train.T @ z / (z.T @ z)\n",
    "    P[:, i] = p\n",
    "    \n",
    "    # Calcul de d\n",
    "    d = y_train.T @ z / (z.T @ z)\n",
    "    D[0, i] = d\n",
    "    \n",
    "    # Calcul de b\n",
    "    b = W @ D.T\n",
    "    B[:, i] = b.flatten()\n",
    "\n",
    "    # Déflation\n",
    "    X_train -= np.outer(z, p.T)\n",
    "    y_train -= np.outer(z, d).flatten()\n",
    "\n",
    "    # Prédiction sur l'ensemble de test\n",
    "    y_pred = X_test @ B + y_train_mean\n",
    "    \n",
    "    # Évaluation du modèle\n",
    "    mse = np.mean((y_test - np.mean(y_pred, axis=1)) ** 2)\n",
    "    print(f\"Mean Squared Error (Component {i+1}): {mse}\")"
   ]
  },
  {
   "cell_type": "markdown",
   "id": "62272457",
   "metadata": {},
   "source": [
    "### Vérification des résultats à l'aide de la fonction"
   ]
  },
  {
   "cell_type": "code",
   "execution_count": 51,
   "id": "02969f99",
   "metadata": {},
   "outputs": [],
   "source": [
    "from sklearn.cross_decomposition import PLSRegression\n",
    "from sklearn.model_selection import train_test_split\n",
    "from sklearn.metrics import mean_squared_error"
   ]
  },
  {
   "cell_type": "code",
   "execution_count": 52,
   "id": "9a616e8b",
   "metadata": {},
   "outputs": [],
   "source": [
    "max_comp = 5\n",
    "scores = []"
   ]
  },
  {
   "cell_type": "code",
   "execution_count": 53,
   "id": "d2b80377",
   "metadata": {},
   "outputs": [],
   "source": [
    "# Boucle pour identifier le nombre optimal de composantes\n",
    "for n_components in range(1, max_comp + 1):\n",
    "    pls = PLSRegression(n_components=n_components)\n",
    "    score = np.mean(cross_val_score(pls, X_train, y_train, cv=5, scoring='neg_mean_squared_error'))\n",
    "    scores.append(score)"
   ]
  },
  {
   "cell_type": "code",
   "execution_count": 54,
   "id": "0bfcb808",
   "metadata": {},
   "outputs": [
    {
     "data": {
      "text/plain": [
       "1"
      ]
     },
     "execution_count": 54,
     "metadata": {},
     "output_type": "execute_result"
    }
   ],
   "source": [
    "optimal_components = np.argmax(scores) + 1\n",
    "optimal_components"
   ]
  },
  {
   "cell_type": "code",
   "execution_count": 55,
   "id": "4de269e5",
   "metadata": {},
   "outputs": [
    {
     "data": {
      "text/plain": [
       "PLSRegression(n_components=1)"
      ]
     },
     "execution_count": 55,
     "metadata": {},
     "output_type": "execute_result"
    }
   ],
   "source": [
    "final_pls = PLSRegression(n_components=optimal_components)\n",
    "final_pls.fit(X_train, y_train)"
   ]
  },
  {
   "cell_type": "code",
   "execution_count": 57,
   "id": "5ef19fd8",
   "metadata": {},
   "outputs": [
    {
     "name": "stdout",
     "output_type": "stream",
     "text": [
      "Mean Squared Error: 2.3232196877329447\n"
     ]
    }
   ],
   "source": [
    "# Prédiction\n",
    "y_pred = final_pls.predict(X_test)\n",
    "mse = mean_squared_error(y_test, y_pred)\n",
    "print(f\"Mean Squared Error: {mse}\")"
   ]
  },
  {
   "cell_type": "markdown",
   "id": "ae274759",
   "metadata": {},
   "source": [
    "On remarque que le MSE obtenu est légèrement supérieur à celui obtenu par notre algorithme pour le même nombre de composantes à savoir 1."
   ]
  }
 ],
 "metadata": {
  "kernelspec": {
   "display_name": "Python 3 (ipykernel)",
   "language": "python",
   "name": "python3"
  },
  "language_info": {
   "codemirror_mode": {
    "name": "ipython",
    "version": 3
   },
   "file_extension": ".py",
   "mimetype": "text/x-python",
   "name": "python",
   "nbconvert_exporter": "python",
   "pygments_lexer": "ipython3",
   "version": "3.9.7"
  }
 },
 "nbformat": 4,
 "nbformat_minor": 5
}
